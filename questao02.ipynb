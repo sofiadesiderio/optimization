{
 "cells": [
  {
   "cell_type": "code",
   "execution_count": 1,
   "metadata": {},
   "outputs": [
    {
     "name": "stdout",
     "output_type": "stream",
     "text": [
      "Defaulting to user installation because normal site-packages is not writeable\n",
      "Collecting mip\n",
      "  Downloading mip-1.15.0-py3-none-any.whl (15.3 MB)\n",
      "\u001b[2K     \u001b[90m━━━━━━━━━━━━━━━━━━━━━━━━━━━━━━━━━━━━━━━━\u001b[0m \u001b[32m15.3/15.3 MB\u001b[0m \u001b[31m14.2 MB/s\u001b[0m eta \u001b[36m0:00:00\u001b[0m00:01\u001b[0m00:01\u001b[0m\n",
      "\u001b[?25hCollecting cffi==1.15.*\n",
      "  Downloading cffi-1.15.1-cp310-cp310-manylinux_2_17_x86_64.manylinux2014_x86_64.whl (441 kB)\n",
      "\u001b[2K     \u001b[90m━━━━━━━━━━━━━━━━━━━━━━━━━━━━━━━━━━━━━━\u001b[0m \u001b[32m441.8/441.8 KB\u001b[0m \u001b[31m13.4 MB/s\u001b[0m eta \u001b[36m0:00:00\u001b[0m\n",
      "\u001b[?25hCollecting pycparser\n",
      "  Downloading pycparser-2.21-py2.py3-none-any.whl (118 kB)\n",
      "\u001b[2K     \u001b[90m━━━━━━━━━━━━━━━━━━━━━━━━━━━━━━━━━━━━━━\u001b[0m \u001b[32m118.7/118.7 KB\u001b[0m \u001b[31m20.7 MB/s\u001b[0m eta \u001b[36m0:00:00\u001b[0m\n",
      "\u001b[?25hInstalling collected packages: pycparser, cffi, mip\n",
      "Successfully installed cffi-1.15.1 mip-1.15.0 pycparser-2.21\n",
      "Note: you may need to restart the kernel to use updated packages.\n"
     ]
    }
   ],
   "source": [
    "pip install mip"
   ]
  },
  {
   "cell_type": "code",
   "execution_count": 19,
   "metadata": {},
   "outputs": [
    {
     "name": "stdout",
     "output_type": "stream",
     "text": [
      "Starting solution of the Linear programming problem using Primal Simplex\n",
      "\n",
      "Coin0506I Presolve 11 (-3) rows, 11 (0) columns and 48 (-3) elements\n",
      "Clp1000I sum of infeasibilities 3.50092e-06 - average 3.18266e-07, 1 fixed columns\n",
      "Coin0506I Presolve 9 (-2) rows, 7 (-4) columns and 32 (-16) elements\n",
      "Clp0006I 0  Obj 99442.662 Dual inf 47791.087 (7)\n",
      "Clp0029I End of values pass after 7 iterations\n",
      "Clp0000I Optimal - objective value 827500\n",
      "Clp0000I Optimal - objective value 827500\n",
      "Coin0511I After Postsolve, objective 827500, infeasibilities - dual 0 (0), primal 0 (0)\n",
      "Clp0006I 0  Obj 827500\n",
      "Clp0000I Optimal - objective value 827500\n",
      "Clp0000I Optimal - objective value 827500\n",
      "Clp0000I Optimal - objective value 827500\n",
      "Coin0511I After Postsolve, objective 827500, infeasibilities - dual 0 (0), primal 0 (0)\n",
      "Clp0032I Optimal objective 827500 - 0 iterations time 0.002, Presolve 0.00, Idiot 0.00\n",
      "Quantidade (em toneladas) a ser extraída do 'Minério i':\n",
      "Minério 1: 1000.0 toneladas\n",
      "Minério 2: 2000.0 toneladas\n",
      "Minério 3: 3000.0 toneladas\n",
      "Quantidade do 'Metal k' utilizada na 'Liga j':\n",
      "Liga A Metal 1: 0.0\n",
      "Liga A Metal 2: 0.0\n",
      "Liga A Metal 3: 1500.0000000000005\n",
      "Liga A Metal 4: 1500.0\n",
      "Liga B Metal 1: 370.0000000000001\n",
      "Liga B Metal 2: 650.0\n",
      "Liga B Metal 3: 605.0\n",
      "Liga B Metal 4: 0.0\n"
     ]
    }
   ],
   "source": [
    "from mip import Model, xsum, maximize, CONTINUOUS\n",
    "\n",
    "m = Model(\"Questão 02\")\n",
    "\n",
    "# Variáveis\n",
    "x = [m.add_var(var_type=CONTINUOUS, lb=0) for i in range(3)]\n",
    "y = [[m.add_var(var_type=CONTINUOUS, lb=0) for k in range(4)] for j in range(2)]\n",
    "\n",
    "# Entradas\n",
    "componentes = [[0.02, 0.1, 0.05],[0.1, 0.2, 0.05],[0.3, 0.3, 0.7],[0.3, 0.3, 0.2]]\n",
    "ligas = [\"A\", \"B\"]\n",
    "\n",
    "# Função objetivo\n",
    "m.objective = maximize(\n",
    "    (200 * xsum(y[0][k] for k in range(4))) +\n",
    "    (300 * xsum(y[1][k] for k in range(4))) -\n",
    "    (30 * x[0]) - (40 * x[1]) - (50 * x[2])\n",
    ")\n",
    "\n",
    "# Restrições\n",
    "m += x[0] <= 1000\n",
    "m += x[1] <= 2000\n",
    "m += x[2] <= 3000\n",
    "\n",
    "for k in range(4):\n",
    "    m += y[0][k] + y[1][k] <= (componentes[k][0]*x[0]) + (componentes[k][1]*x[1]) + (componentes[k][2]*x[2])\n",
    "\n",
    "m += y[0][0] <= (0.8*(xsum(y[0][k] for k in range(4))))\n",
    "m += y[0][1] <= (0.3*(xsum(y[0][k] for k in range(4))))\n",
    "m += y[1][1] <= (0.6*(xsum(y[1][k] for k in range(4))))\n",
    "m += y[1][3] <= (0.7*(xsum(y[1][k] for k in range(4))))\n",
    "\n",
    "m += y[0][3] >= (0.5*(xsum(y[0][k] for k in range(4))))\n",
    "m += y[1][1] >= (0.4*(xsum(y[1][k] for k in range(4))))\n",
    "m += y[1][2] >= (0.3*(xsum(y[1][k] for k in range(4))))\n",
    "\n",
    "m.optimize()\n",
    "\n",
    "# Exibição\n",
    "print(\"Quantidade (em toneladas) a ser extraída do 'Minério i':\")\n",
    "for i in range(3):\n",
    "    print(\"Minério \" + str(i + 1) + \": \" + str(x[i].x) + \" toneladas\")\n",
    "\n",
    "print(\"Quantidade do 'Metal k' utilizada na 'Liga j':\")\n",
    "for j in range(2):\n",
    "    for k in range(4):\n",
    "        print(\"Liga \" + ligas[j] + \" Metal \" + str(k + 1) + \": \" + str(y[j][k].x))"
   ]
  }
 ],
 "metadata": {
  "kernelspec": {
   "display_name": "Python 3",
   "language": "python",
   "name": "python3"
  },
  "language_info": {
   "codemirror_mode": {
    "name": "ipython",
    "version": 3
   },
   "file_extension": ".py",
   "mimetype": "text/x-python",
   "name": "python",
   "nbconvert_exporter": "python",
   "pygments_lexer": "ipython3",
   "version": "3.10.12"
  }
 },
 "nbformat": 4,
 "nbformat_minor": 2
}
