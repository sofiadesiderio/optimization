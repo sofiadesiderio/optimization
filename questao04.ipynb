{
 "cells": [
  {
   "cell_type": "code",
   "execution_count": null,
   "metadata": {},
   "outputs": [],
   "source": [
    "pip install mip"
   ]
  },
  {
   "cell_type": "code",
   "execution_count": 20,
   "metadata": {},
   "outputs": [
    {
     "name": "stdout",
     "output_type": "stream",
     "text": [
      "Starting solution of the Linear programming relaxation problem using Primal Simplex\n",
      "\n",
      "Coin0506I Presolve 0 (-6) rows, 0 (-7) columns and 0 (-14) elements\n",
      "Clp0000I Optimal - objective value 123\n",
      "Coin0511I After Postsolve, objective 123, infeasibilities - dual 0 (0), primal 0 (0)\n",
      "Clp0032I Optimal objective 123 - 0 iterations time 0.002, Presolve 0.00, Idiot 0.00\n",
      "\n",
      "Starting MIP optimization\n",
      "Cgl0002I 3 variables fixed\n",
      "Cgl0004I processed model has 0 rows, 0 columns (0 integer (0 of which binary)) and 0 elements\n",
      "Cgl0015I Clique Strengthening extended 0 cliques, 0 were dominated\n",
      "Cbc3007W No integer variables\n",
      "Total time (CPU seconds):       0.00   (Wallclock seconds):       0.00\n",
      "\n",
      "Valor ótimo: 123.0\n"
     ]
    },
    {
     "ename": "TypeError",
     "evalue": "list indices must be integers or slices, not Var",
     "output_type": "error",
     "traceback": [
      "\u001b[0;31m---------------------------------------------------------------------------\u001b[0m",
      "\u001b[0;31mTypeError\u001b[0m                                 Traceback (most recent call last)",
      "\u001b[1;32m/home/dypha/Área de Trabalho/MC - atividade 06/questao04.ipynb Célula 2\u001b[0m line \u001b[0;36m3\n\u001b[1;32m     <a href='vscode-notebook-cell:/home/dypha/%C3%81rea%20de%20Trabalho/MC%20-%20atividade%2006/questao04.ipynb#W3sZmlsZQ%3D%3D?line=32'>33</a>\u001b[0m \u001b[39mprint\u001b[39m(\u001b[39m\"\u001b[39m\u001b[39mValor ótimo: \u001b[39m\u001b[39m{}\u001b[39;00m\u001b[39m\"\u001b[39m\u001b[39m.\u001b[39mformat(m\u001b[39m.\u001b[39mobjective_value))\n\u001b[1;32m     <a href='vscode-notebook-cell:/home/dypha/%C3%81rea%20de%20Trabalho/MC%20-%20atividade%2006/questao04.ipynb#W3sZmlsZQ%3D%3D?line=33'>34</a>\u001b[0m \u001b[39mfor\u001b[39;00m i \u001b[39min\u001b[39;00m x:\n\u001b[0;32m---> <a href='vscode-notebook-cell:/home/dypha/%C3%81rea%20de%20Trabalho/MC%20-%20atividade%2006/questao04.ipynb#W3sZmlsZQ%3D%3D?line=34'>35</a>\u001b[0m     \u001b[39mprint\u001b[39m(x[i]\u001b[39m.\u001b[39mx)\n",
      "\u001b[0;31mTypeError\u001b[0m: list indices must be integers or slices, not Var"
     ]
    }
   ],
   "source": [
    "from mip import Model, minimize, BINARY\n",
    "\n",
    "m = Model(\"Avaliação Prática 4\")\n",
    "\n",
    "'''\n",
    "Variáveis - cada aresta (i,j) tem uma posição na lista abaixo.\n",
    "(1, 2) : 0\n",
    "(1, 3) : 1\n",
    "(1, 5) : 2\n",
    "(2, 4) : 3\n",
    "(3, 5) : 4\n",
    "(4, 6) : 5\n",
    "(5, 6) : 6\n",
    "'''\n",
    "\n",
    "x = [m.add_var(var_type=BINARY) for i in range(7)]\n",
    "\n",
    "# Função objetivo (minimizar)\n",
    "m.objective = minimize(41*x[0] + 44*x[1] + 50*x[2] + 37*x[3] + 27*x[4] + 45*x[5] + 4*x[6])\n",
    "\n",
    "# Restrições\n",
    "m += x[0] + x[1] + x[2] == 1\n",
    "m += x[0] - x[3] == 0\n",
    "m += x[1] - x[4] == 0\n",
    "m += x[3] - x[5] == 0\n",
    "m += x[2] + x[4] + x[6] == 0\n",
    "m += x[5] + x[6] == 1\n",
    "\n",
    "# Resolvendo o modelo\n",
    "m.optimize()\n",
    "\n",
    "# Imprimindo a solução\n",
    "print(\"Valor ótimo: {}\".format(m.objective_value))"
   ]
  }
 ],
 "metadata": {
  "kernelspec": {
   "display_name": "Python 3",
   "language": "python",
   "name": "python3"
  },
  "language_info": {
   "codemirror_mode": {
    "name": "ipython",
    "version": 3
   },
   "file_extension": ".py",
   "mimetype": "text/x-python",
   "name": "python",
   "nbconvert_exporter": "python",
   "pygments_lexer": "ipython3",
   "version": "3.10.12"
  }
 },
 "nbformat": 4,
 "nbformat_minor": 2
}
