{
 "cells": [
  {
   "cell_type": "code",
   "execution_count": 1,
   "metadata": {},
   "outputs": [
    {
     "name": "stdout",
     "output_type": "stream",
     "text": [
      "Defaulting to user installation because normal site-packages is not writeable\n",
      "Requirement already satisfied: mip in /home/dypha/.local/lib/python3.10/site-packages (1.15.0)\n",
      "Requirement already satisfied: cffi==1.15.* in /home/dypha/.local/lib/python3.10/site-packages (from mip) (1.15.1)\n",
      "Requirement already satisfied: pycparser in /home/dypha/.local/lib/python3.10/site-packages (from cffi==1.15.*->mip) (2.21)\n",
      "Note: you may need to restart the kernel to use updated packages.\n"
     ]
    }
   ],
   "source": [
    "pip install mip"
   ]
  },
  {
   "cell_type": "code",
   "execution_count": 4,
   "metadata": {},
   "outputs": [
    {
     "name": "stdout",
     "output_type": "stream",
     "text": [
      "Starting solution of the Linear programming relaxation problem using Primal Simplex\n",
      "\n",
      "Coin0506I Presolve 2 (-2) rows, 2 (0) columns and 4 (-2) elements\n",
      "Clp1000I sum of infeasibilities 0 - average 0, 2 fixed columns\n",
      "Coin0506I Presolve 0 (-2) rows, 0 (-2) columns and 0 (-4) elements\n",
      "Clp0000I Optimal - objective value 2400\n",
      "Clp0000I Optimal - objective value 2400\n",
      "Coin0511I After Postsolve, objective 2400, infeasibilities - dual 0 (0), primal 0 (0)\n",
      "Clp0006I 0  Obj 2400 Dual inf 240 (1)\n",
      "Clp0000I Optimal - objective value 2400\n",
      "Clp0000I Optimal - objective value 2400\n",
      "Clp0000I Optimal - objective value 2400\n",
      "Coin0511I After Postsolve, objective 2400, infeasibilities - dual 0 (0), primal 0 (0)\n",
      "Clp0032I Optimal objective 2400 - 0 iterations time 0.002, Presolve 0.00, Idiot 0.00\n",
      "\n",
      "Starting MIP optimization\n",
      "Cgl0004I processed model has 0 rows, 0 columns (0 integer (0 of which binary)) and 0 elements\n",
      "Cgl0015I Clique Strengthening extended 0 cliques, 0 were dominated\n",
      "Cbc3007W No integer variables\n",
      "Total time (CPU seconds):       0.00   (Wallclock seconds):       0.00\n",
      "\n",
      "Quantidade de caminhões grandes: 10.0\n",
      "Quantidade de caminhões pequenos: 0.0\n"
     ]
    }
   ],
   "source": [
    "from mip import Model, minimize, INTEGER\n",
    "\n",
    "m = Model(\"Questão 03\")\n",
    "\n",
    "# Variáveis\n",
    "x1 = m.add_var(var_type=INTEGER, lb=0)\n",
    "x2 = m.add_var(var_type=INTEGER, lb=0)\n",
    "\n",
    "# Função objetivo\n",
    "m.objective = minimize(240*x1 + 200*x2)\n",
    "\n",
    "# Restrições\n",
    "m += x1 <= 10\n",
    "m += x2 <= 5\n",
    "m += 4*x1 + 3*x2 >= 40\n",
    "m += (10 - x1)/2 >= x2\n",
    "\n",
    "m.optimize()\n",
    "\n",
    "# Exibição\n",
    "print(\"Quantidade de caminhões grandes: \" + str(x1.x))\n",
    "print(\"Quantidade de caminhões pequenos: \" + str(x2.x))"
   ]
  }
 ],
 "metadata": {
  "kernelspec": {
   "display_name": "Python 3",
   "language": "python",
   "name": "python3"
  },
  "language_info": {
   "codemirror_mode": {
    "name": "ipython",
    "version": 3
   },
   "file_extension": ".py",
   "mimetype": "text/x-python",
   "name": "python",
   "nbconvert_exporter": "python",
   "pygments_lexer": "ipython3",
   "version": "3.10.12"
  }
 },
 "nbformat": 4,
 "nbformat_minor": 2
}
